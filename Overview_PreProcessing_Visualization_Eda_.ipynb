{
  "nbformat": 4,
  "nbformat_minor": 0,
  "metadata": {
    "colab": {
      "provenance": []
    },
    "kernelspec": {
      "name": "python3",
      "display_name": "Python 3"
    },
    "language_info": {
      "name": "python"
    }
  },
  "cells": [
    {
      "cell_type": "code",
      "source": [
        "!apt-get install openjdk-8-jdk-headless"
      ],
      "metadata": {
        "colab": {
          "base_uri": "https://localhost:8080/"
        },
        "id": "SCTxarFdGrUa",
        "outputId": "b0061229-6f9a-4a84-b4af-bd7b2beb521e"
      },
      "execution_count": null,
      "outputs": [
        {
          "output_type": "stream",
          "name": "stdout",
          "text": [
            "Reading package lists... Done\n",
            "Building dependency tree       \n",
            "Reading state information... Done\n",
            "The following additional packages will be installed:\n",
            "  libxtst6 openjdk-8-jre-headless\n",
            "Suggested packages:\n",
            "  openjdk-8-demo openjdk-8-source libnss-mdns fonts-dejavu-extra\n",
            "  fonts-ipafont-gothic fonts-ipafont-mincho fonts-wqy-microhei\n",
            "  fonts-wqy-zenhei fonts-indic\n",
            "The following NEW packages will be installed:\n",
            "  libxtst6 openjdk-8-jdk-headless openjdk-8-jre-headless\n",
            "0 upgraded, 3 newly installed, 0 to remove and 24 not upgraded.\n",
            "Need to get 36.5 MB of archives.\n",
            "After this operation, 144 MB of additional disk space will be used.\n",
            "Get:1 http://archive.ubuntu.com/ubuntu focal/main amd64 libxtst6 amd64 2:1.2.3-1 [12.8 kB]\n",
            "Get:2 http://archive.ubuntu.com/ubuntu focal-updates/universe amd64 openjdk-8-jre-headless amd64 8u372-ga~us1-0ubuntu1~20.04 [28.3 MB]\n",
            "Get:3 http://archive.ubuntu.com/ubuntu focal-updates/universe amd64 openjdk-8-jdk-headless amd64 8u372-ga~us1-0ubuntu1~20.04 [8,282 kB]\n",
            "Fetched 36.5 MB in 1s (42.9 MB/s)\n",
            "Selecting previously unselected package libxtst6:amd64.\n",
            "(Reading database ... 122531 files and directories currently installed.)\n",
            "Preparing to unpack .../libxtst6_2%3a1.2.3-1_amd64.deb ...\n",
            "Unpacking libxtst6:amd64 (2:1.2.3-1) ...\n",
            "Selecting previously unselected package openjdk-8-jre-headless:amd64.\n",
            "Preparing to unpack .../openjdk-8-jre-headless_8u372-ga~us1-0ubuntu1~20.04_amd64.deb ...\n",
            "Unpacking openjdk-8-jre-headless:amd64 (8u372-ga~us1-0ubuntu1~20.04) ...\n",
            "Selecting previously unselected package openjdk-8-jdk-headless:amd64.\n",
            "Preparing to unpack .../openjdk-8-jdk-headless_8u372-ga~us1-0ubuntu1~20.04_amd64.deb ...\n",
            "Unpacking openjdk-8-jdk-headless:amd64 (8u372-ga~us1-0ubuntu1~20.04) ...\n",
            "Setting up libxtst6:amd64 (2:1.2.3-1) ...\n",
            "Setting up openjdk-8-jre-headless:amd64 (8u372-ga~us1-0ubuntu1~20.04) ...\n",
            "update-alternatives: using /usr/lib/jvm/java-8-openjdk-amd64/jre/bin/orbd to provide /usr/bin/orbd (orbd) in auto mode\n",
            "update-alternatives: using /usr/lib/jvm/java-8-openjdk-amd64/jre/bin/servertool to provide /usr/bin/servertool (servertool) in auto mode\n",
            "update-alternatives: using /usr/lib/jvm/java-8-openjdk-amd64/jre/bin/tnameserv to provide /usr/bin/tnameserv (tnameserv) in auto mode\n",
            "Setting up openjdk-8-jdk-headless:amd64 (8u372-ga~us1-0ubuntu1~20.04) ...\n",
            "update-alternatives: using /usr/lib/jvm/java-8-openjdk-amd64/bin/idlj to provide /usr/bin/idlj (idlj) in auto mode\n",
            "update-alternatives: using /usr/lib/jvm/java-8-openjdk-amd64/bin/wsimport to provide /usr/bin/wsimport (wsimport) in auto mode\n",
            "update-alternatives: using /usr/lib/jvm/java-8-openjdk-amd64/bin/jsadebugd to provide /usr/bin/jsadebugd (jsadebugd) in auto mode\n",
            "update-alternatives: using /usr/lib/jvm/java-8-openjdk-amd64/bin/native2ascii to provide /usr/bin/native2ascii (native2ascii) in auto mode\n",
            "update-alternatives: using /usr/lib/jvm/java-8-openjdk-amd64/bin/javah to provide /usr/bin/javah (javah) in auto mode\n",
            "update-alternatives: using /usr/lib/jvm/java-8-openjdk-amd64/bin/clhsdb to provide /usr/bin/clhsdb (clhsdb) in auto mode\n",
            "update-alternatives: using /usr/lib/jvm/java-8-openjdk-amd64/bin/jhat to provide /usr/bin/jhat (jhat) in auto mode\n",
            "update-alternatives: using /usr/lib/jvm/java-8-openjdk-amd64/bin/extcheck to provide /usr/bin/extcheck (extcheck) in auto mode\n",
            "update-alternatives: using /usr/lib/jvm/java-8-openjdk-amd64/bin/hsdb to provide /usr/bin/hsdb (hsdb) in auto mode\n",
            "update-alternatives: using /usr/lib/jvm/java-8-openjdk-amd64/bin/schemagen to provide /usr/bin/schemagen (schemagen) in auto mode\n",
            "update-alternatives: using /usr/lib/jvm/java-8-openjdk-amd64/bin/xjc to provide /usr/bin/xjc (xjc) in auto mode\n",
            "update-alternatives: using /usr/lib/jvm/java-8-openjdk-amd64/bin/wsgen to provide /usr/bin/wsgen (wsgen) in auto mode\n",
            "Processing triggers for libc-bin (2.31-0ubuntu9.9) ...\n"
          ]
        }
      ]
    },
    {
      "cell_type": "code",
      "source": [
        "!wget https://archive.apache.org/dist/spark/spark-3.2.1/spark-3.2.1-bin-hadoop2.7.tgz"
      ],
      "metadata": {
        "colab": {
          "base_uri": "https://localhost:8080/"
        },
        "id": "4oQc_cQaGtzv",
        "outputId": "46ba2f3b-60a5-4755-8fae-b3a618adefa6"
      },
      "execution_count": null,
      "outputs": [
        {
          "output_type": "stream",
          "name": "stdout",
          "text": [
            "--2023-05-21 21:05:38--  https://archive.apache.org/dist/spark/spark-3.2.1/spark-3.2.1-bin-hadoop2.7.tgz\n",
            "Resolving archive.apache.org (archive.apache.org)... 65.108.204.189, 2a01:4f9:1a:a084::2\n",
            "Connecting to archive.apache.org (archive.apache.org)|65.108.204.189|:443... connected.\n",
            "HTTP request sent, awaiting response... 200 OK\n",
            "Length: 272637746 (260M) [application/x-gzip]\n",
            "Saving to: ‘spark-3.2.1-bin-hadoop2.7.tgz’\n",
            "\n",
            "spark-3.2.1-bin-had 100%[===================>] 260.01M  23.3MB/s    in 12s     \n",
            "\n",
            "2023-05-21 21:05:51 (21.6 MB/s) - ‘spark-3.2.1-bin-hadoop2.7.tgz’ saved [272637746/272637746]\n",
            "\n"
          ]
        }
      ]
    },
    {
      "cell_type": "markdown",
      "source": [
        "Installing Apache Spark"
      ],
      "metadata": {
        "id": "7S9xHsuPPAAC"
      }
    },
    {
      "cell_type": "code",
      "source": [
        "!wget https://archive.apache.org/dist/spark/spark-3.2.1/spark-3.2.1-bin-hadoop2.7.tgz "
      ],
      "metadata": {
        "colab": {
          "base_uri": "https://localhost:8080/"
        },
        "id": "DdkOJicVG5bs",
        "outputId": "df171a10-477d-4910-d74d-a40d1c7b7081"
      },
      "execution_count": null,
      "outputs": [
        {
          "output_type": "stream",
          "name": "stdout",
          "text": [
            "--2023-05-21 21:05:51--  https://archive.apache.org/dist/spark/spark-3.2.1/spark-3.2.1-bin-hadoop2.7.tgz\n",
            "Resolving archive.apache.org (archive.apache.org)... 65.108.204.189, 2a01:4f9:1a:a084::2\n",
            "Connecting to archive.apache.org (archive.apache.org)|65.108.204.189|:443... connected.\n",
            "HTTP request sent, awaiting response... 200 OK\n",
            "Length: 272637746 (260M) [application/x-gzip]\n",
            "Saving to: ‘spark-3.2.1-bin-hadoop2.7.tgz.1’\n",
            "\n",
            "spark-3.2.1-bin-had 100%[===================>] 260.01M  23.6MB/s    in 12s     \n",
            "\n",
            "2023-05-21 21:06:03 (21.8 MB/s) - ‘spark-3.2.1-bin-hadoop2.7.tgz.1’ saved [272637746/272637746]\n",
            "\n"
          ]
        }
      ]
    },
    {
      "cell_type": "markdown",
      "source": [
        "unzip folder"
      ],
      "metadata": {
        "id": "YsU36dJyPIzc"
      }
    },
    {
      "cell_type": "code",
      "source": [
        "!tar xf spark-3.2.1-bin-hadoop2.7.tgz"
      ],
      "metadata": {
        "id": "7_EfmYcRPPP7"
      },
      "execution_count": null,
      "outputs": []
    },
    {
      "cell_type": "code",
      "source": [
        "#now we need to install findspark library, which will find spark on the system:\n",
        "!pip install -q findspark"
      ],
      "metadata": {
        "id": "YH46-i7ZPU6N"
      },
      "execution_count": null,
      "outputs": []
    },
    {
      "cell_type": "code",
      "source": [
        "# required dependencies are done, now setting the envoironment, to run the pyspark\n",
        "import os\n",
        "os.environ[\"JAVA_HOME\"] = \"/usr/lib/jvm/java-8-openjdk-amd64\"\n",
        "os.environ[\"SPARK_HOME\"] = \"/content/spark-3.2.1-bin-hadoop2.7\""
      ],
      "metadata": {
        "id": "L8G3gdsOQCLO"
      },
      "execution_count": null,
      "outputs": []
    },
    {
      "cell_type": "code",
      "source": [
        "# locating spark in  the system\n",
        "import findspark\n",
        "findspark.init()\n",
        "findspark.find()"
      ],
      "metadata": {
        "colab": {
          "base_uri": "https://localhost:8080/",
          "height": 35
        },
        "id": "N1APp5eNQEFC",
        "outputId": "dc335a45-0988-4276-945c-9d73e66aa428"
      },
      "execution_count": null,
      "outputs": [
        {
          "output_type": "execute_result",
          "data": {
            "text/plain": [
              "'/content/spark-3.2.1-bin-hadoop2.7'"
            ],
            "application/vnd.google.colaboratory.intrinsic+json": {
              "type": "string"
            }
          },
          "metadata": {},
          "execution_count": 7
        }
      ]
    },
    {
      "cell_type": "code",
      "source": [
        "#now the actual game starts from here, we will import Sparksession, and create it, it the initial kick to spark\n",
        "from pyspark.sql import SparkSession\n",
        "spark = SparkSession.builder\\\n",
        "        .master(\"local\")\\\n",
        "        .appName(\"DataCleaningApp\")\\\n",
        "        .config('spark.ui.port', '4050')\\\n",
        "        .getOrCreate()"
      ],
      "metadata": {
        "id": "3VjLn8zKQOZb"
      },
      "execution_count": null,
      "outputs": []
    },
    {
      "cell_type": "code",
      "source": [
        "# finally we have Spark session variable. write spark and run to check is it working\n",
        "spark"
      ],
      "metadata": {
        "colab": {
          "base_uri": "https://localhost:8080/",
          "height": 219
        },
        "id": "zLLaS39yQsLQ",
        "outputId": "c4951391-19ea-49a8-b8f7-3ddf45cd1dab"
      },
      "execution_count": null,
      "outputs": [
        {
          "output_type": "execute_result",
          "data": {
            "text/plain": [
              "<pyspark.sql.session.SparkSession at 0x7f370021f130>"
            ],
            "text/html": [
              "\n",
              "            <div>\n",
              "                <p><b>SparkSession - in-memory</b></p>\n",
              "                \n",
              "        <div>\n",
              "            <p><b>SparkContext</b></p>\n",
              "\n",
              "            <p><a href=\"http://a2ccd86af164:4050\">Spark UI</a></p>\n",
              "\n",
              "            <dl>\n",
              "              <dt>Version</dt>\n",
              "                <dd><code>v3.2.1</code></dd>\n",
              "              <dt>Master</dt>\n",
              "                <dd><code>local</code></dd>\n",
              "              <dt>AppName</dt>\n",
              "                <dd><code>DataCleaningApp</code></dd>\n",
              "            </dl>\n",
              "        </div>\n",
              "        \n",
              "            </div>\n",
              "        "
            ]
          },
          "metadata": {},
          "execution_count": 9
        }
      ]
    },
    {
      "cell_type": "markdown",
      "source": [
        "#Loadingv our data to PySpark"
      ],
      "metadata": {
        "id": "QJshKs4rRxZ9"
      }
    },
    {
      "cell_type": "code",
      "source": [
        "df = spark.read.csv(\"/content/drive/MyDrive/Big Data Management/datasets/combined-dataeda.csv\", header=True, inferSchema=True)"
      ],
      "metadata": {
        "id": "nlkQljCbRotF"
      },
      "execution_count": null,
      "outputs": []
    },
    {
      "cell_type": "code",
      "source": [
        "# first we will check the coloumn details \n",
        "df.columns"
      ],
      "metadata": {
        "colab": {
          "base_uri": "https://localhost:8080/"
        },
        "id": "GBmqc_WIX6bg",
        "outputId": "e3faa7fc-b41d-47fa-d25b-881e75c88f93"
      },
      "execution_count": null,
      "outputs": [
        {
          "output_type": "execute_result",
          "data": {
            "text/plain": [
              "['userId',\n",
              " 'userSessionId',\n",
              " 'teamLevel',\n",
              " 'platformType',\n",
              " 'count_gameclicks',\n",
              " 'count_hits',\n",
              " 'count_buyId',\n",
              " 'avg_price',\n",
              " 'country',\n",
              " 'adCategory',\n",
              " 'price']"
            ]
          },
          "metadata": {},
          "execution_count": 65
        }
      ]
    },
    {
      "cell_type": "code",
      "source": [
        "#let have some try with data here 5 rows are showing \n",
        "#remember for Pandas we used head() but here for spark we will use show()\n",
        "\n",
        "df.show(5)"
      ],
      "metadata": {
        "colab": {
          "base_uri": "https://localhost:8080/"
        },
        "id": "Q-RNoYXBYPYI",
        "outputId": "2febaeec-ff4b-43ab-f37a-079a4fcfef3c"
      },
      "execution_count": null,
      "outputs": [
        {
          "output_type": "stream",
          "name": "stdout",
          "text": [
            "+------+-------------+---------+------------+----------------+----------+-----------+---------+-------+-----------+-----+\n",
            "|userId|userSessionId|teamLevel|platformType|count_gameclicks|count_hits|count_buyId|avg_price|country| adCategory|price|\n",
            "+------+-------------+---------+------------+----------------+----------+-----------+---------+-------+-----------+-----+\n",
            "|   812|         5648|        1|     android|              69|         8|       NULL|     NULL|     BA|electronics|    3|\n",
            "|  1658|         5649|        1|      iphone|              31|         5|       NULL|     NULL|     HU|     movies|   10|\n",
            "|  1589|         5650|        1|      iphone|              26|         2|       NULL|     NULL|     IS|  computers|   20|\n",
            "|  1863|         5651|        1|     android|              35|         4|       NULL|     NULL|     AM|    fashion|    3|\n",
            "|   937|         5652|        1|     android|              39|         0|          1|        1|     CC|   clothing|   20|\n",
            "+------+-------------+---------+------------+----------------+----------+-----------+---------+-------+-----------+-----+\n",
            "only showing top 5 rows\n",
            "\n"
          ]
        }
      ]
    },
    {
      "cell_type": "code",
      "source": [
        "df.describe().show()"
      ],
      "metadata": {
        "colab": {
          "base_uri": "https://localhost:8080/"
        },
        "id": "D-rD5wNgJpJw",
        "outputId": "ad4ea2bc-140a-4d41-d4c0-e50ad5e9f6e2"
      },
      "execution_count": null,
      "outputs": [
        {
          "output_type": "stream",
          "name": "stdout",
          "text": [
            "+-------+------------------+-----------------+------------------+------------+------------------+------------------+------------------+-----------------+-------+----------+------------------+\n",
            "|summary|            userId|    userSessionId|         teamLevel|platformType|  count_gameclicks|        count_hits|       count_buyId|        avg_price|country|adCategory|             price|\n",
            "+-------+------------------+-----------------+------------------+------------+------------------+------------------+------------------+-----------------+-------+----------+------------------+\n",
            "|  count|              4619|             4619|              4619|        4619|              4619|              4619|              4619|             4619|   4619|      4619|              4619|\n",
            "|   mean|1189.9647109764019|17963.06798008227| 4.355704697986577|        null|143.06300064949124|15.705780471963628|1.6832034018426647|7.214323175053155|   null|      null| 7.348560294436025|\n",
            "| stddev| 691.0986309664246|7947.681126803095|1.9246625516949587|        null|126.88339694316925|13.986901900918744|0.9005088871085436|6.536501375588665|   null|      null|7.1247441191006216|\n",
            "|    min|                 0|             5648|                 1|     android|                 1|                 0|                 1|                1|     AD|automotive|                 1|\n",
            "|    max|              2389|            38722|                 8|     windows|              1207|               121|              NULL|             NULL|     ZW|    sports|                20|\n",
            "+-------+------------------+-----------------+------------------+------------+------------------+------------------+------------------+-----------------+-------+----------+------------------+\n",
            "\n"
          ]
        }
      ]
    },
    {
      "cell_type": "code",
      "source": [],
      "metadata": {
        "id": "jgTGt8qsVNbm"
      },
      "execution_count": null,
      "outputs": []
    },
    {
      "cell_type": "code",
      "source": [
        "#check if there is any duplicate value\n",
        "import pyspark.sql.functions as funcs\n",
        "df.groupBy(df.columns).count().where(funcs.col('count') > 1).select(funcs.sum('count')).show()"
      ],
      "metadata": {
        "colab": {
          "base_uri": "https://localhost:8080/"
        },
        "id": "Dvp8MKxrdQqv",
        "outputId": "99ad7b67-0f9c-420d-eea4-a3351169cefe"
      },
      "execution_count": null,
      "outputs": [
        {
          "output_type": "stream",
          "name": "stdout",
          "text": [
            "+----------+\n",
            "|sum(count)|\n",
            "+----------+\n",
            "|      null|\n",
            "+----------+\n",
            "\n"
          ]
        }
      ]
    },
    {
      "cell_type": "code",
      "source": [
        "df.describe().toPandas().transpose()"
      ],
      "metadata": {
        "colab": {
          "base_uri": "https://localhost:8080/",
          "height": 426
        },
        "id": "FZka-FCOM7Ex",
        "outputId": "33522e0c-3e63-4f85-80ae-ccf152e64429"
      },
      "execution_count": null,
      "outputs": [
        {
          "output_type": "execute_result",
          "data": {
            "text/plain": [
              "                      0                   1                   2           3  \\\n",
              "summary           count                mean              stddev         min   \n",
              "userId             4619  1189.9647109764019   691.0986309664246           0   \n",
              "userSessionId      4619   17963.06798008227   7947.681126803095        5648   \n",
              "teamLevel          4619   4.355704697986577  1.9246625516949587           1   \n",
              "platformType       4619                None                None     android   \n",
              "count_gameclicks   4619  143.06300064949124  126.88339694316925           1   \n",
              "count_hits         4619  15.705780471963628  13.986901900918744           0   \n",
              "count_buyId        4619  1.6832034018426647  0.9005088871085436           1   \n",
              "avg_price          4619   7.214323175053155   6.536501375588665           1   \n",
              "country            4619                None                None          AD   \n",
              "adCategory         4619                None                None  automotive   \n",
              "price              4619   7.348560294436025  7.1247441191006216           1   \n",
              "\n",
              "                        4  \n",
              "summary               max  \n",
              "userId               2389  \n",
              "userSessionId       38722  \n",
              "teamLevel               8  \n",
              "platformType      windows  \n",
              "count_gameclicks     1207  \n",
              "count_hits            121  \n",
              "count_buyId          NULL  \n",
              "avg_price            NULL  \n",
              "country                ZW  \n",
              "adCategory         sports  \n",
              "price                  20  "
            ],
            "text/html": [
              "\n",
              "  <div id=\"df-f7d08a39-c52e-4e55-a10c-f91b5616d488\">\n",
              "    <div class=\"colab-df-container\">\n",
              "      <div>\n",
              "<style scoped>\n",
              "    .dataframe tbody tr th:only-of-type {\n",
              "        vertical-align: middle;\n",
              "    }\n",
              "\n",
              "    .dataframe tbody tr th {\n",
              "        vertical-align: top;\n",
              "    }\n",
              "\n",
              "    .dataframe thead th {\n",
              "        text-align: right;\n",
              "    }\n",
              "</style>\n",
              "<table border=\"1\" class=\"dataframe\">\n",
              "  <thead>\n",
              "    <tr style=\"text-align: right;\">\n",
              "      <th></th>\n",
              "      <th>0</th>\n",
              "      <th>1</th>\n",
              "      <th>2</th>\n",
              "      <th>3</th>\n",
              "      <th>4</th>\n",
              "    </tr>\n",
              "  </thead>\n",
              "  <tbody>\n",
              "    <tr>\n",
              "      <th>summary</th>\n",
              "      <td>count</td>\n",
              "      <td>mean</td>\n",
              "      <td>stddev</td>\n",
              "      <td>min</td>\n",
              "      <td>max</td>\n",
              "    </tr>\n",
              "    <tr>\n",
              "      <th>userId</th>\n",
              "      <td>4619</td>\n",
              "      <td>1189.9647109764019</td>\n",
              "      <td>691.0986309664246</td>\n",
              "      <td>0</td>\n",
              "      <td>2389</td>\n",
              "    </tr>\n",
              "    <tr>\n",
              "      <th>userSessionId</th>\n",
              "      <td>4619</td>\n",
              "      <td>17963.06798008227</td>\n",
              "      <td>7947.681126803095</td>\n",
              "      <td>5648</td>\n",
              "      <td>38722</td>\n",
              "    </tr>\n",
              "    <tr>\n",
              "      <th>teamLevel</th>\n",
              "      <td>4619</td>\n",
              "      <td>4.355704697986577</td>\n",
              "      <td>1.9246625516949587</td>\n",
              "      <td>1</td>\n",
              "      <td>8</td>\n",
              "    </tr>\n",
              "    <tr>\n",
              "      <th>platformType</th>\n",
              "      <td>4619</td>\n",
              "      <td>None</td>\n",
              "      <td>None</td>\n",
              "      <td>android</td>\n",
              "      <td>windows</td>\n",
              "    </tr>\n",
              "    <tr>\n",
              "      <th>count_gameclicks</th>\n",
              "      <td>4619</td>\n",
              "      <td>143.06300064949124</td>\n",
              "      <td>126.88339694316925</td>\n",
              "      <td>1</td>\n",
              "      <td>1207</td>\n",
              "    </tr>\n",
              "    <tr>\n",
              "      <th>count_hits</th>\n",
              "      <td>4619</td>\n",
              "      <td>15.705780471963628</td>\n",
              "      <td>13.986901900918744</td>\n",
              "      <td>0</td>\n",
              "      <td>121</td>\n",
              "    </tr>\n",
              "    <tr>\n",
              "      <th>count_buyId</th>\n",
              "      <td>4619</td>\n",
              "      <td>1.6832034018426647</td>\n",
              "      <td>0.9005088871085436</td>\n",
              "      <td>1</td>\n",
              "      <td>NULL</td>\n",
              "    </tr>\n",
              "    <tr>\n",
              "      <th>avg_price</th>\n",
              "      <td>4619</td>\n",
              "      <td>7.214323175053155</td>\n",
              "      <td>6.536501375588665</td>\n",
              "      <td>1</td>\n",
              "      <td>NULL</td>\n",
              "    </tr>\n",
              "    <tr>\n",
              "      <th>country</th>\n",
              "      <td>4619</td>\n",
              "      <td>None</td>\n",
              "      <td>None</td>\n",
              "      <td>AD</td>\n",
              "      <td>ZW</td>\n",
              "    </tr>\n",
              "    <tr>\n",
              "      <th>adCategory</th>\n",
              "      <td>4619</td>\n",
              "      <td>None</td>\n",
              "      <td>None</td>\n",
              "      <td>automotive</td>\n",
              "      <td>sports</td>\n",
              "    </tr>\n",
              "    <tr>\n",
              "      <th>price</th>\n",
              "      <td>4619</td>\n",
              "      <td>7.348560294436025</td>\n",
              "      <td>7.1247441191006216</td>\n",
              "      <td>1</td>\n",
              "      <td>20</td>\n",
              "    </tr>\n",
              "  </tbody>\n",
              "</table>\n",
              "</div>\n",
              "      <button class=\"colab-df-convert\" onclick=\"convertToInteractive('df-f7d08a39-c52e-4e55-a10c-f91b5616d488')\"\n",
              "              title=\"Convert this dataframe to an interactive table.\"\n",
              "              style=\"display:none;\">\n",
              "        \n",
              "  <svg xmlns=\"http://www.w3.org/2000/svg\" height=\"24px\"viewBox=\"0 0 24 24\"\n",
              "       width=\"24px\">\n",
              "    <path d=\"M0 0h24v24H0V0z\" fill=\"none\"/>\n",
              "    <path d=\"M18.56 5.44l.94 2.06.94-2.06 2.06-.94-2.06-.94-.94-2.06-.94 2.06-2.06.94zm-11 1L8.5 8.5l.94-2.06 2.06-.94-2.06-.94L8.5 2.5l-.94 2.06-2.06.94zm10 10l.94 2.06.94-2.06 2.06-.94-2.06-.94-.94-2.06-.94 2.06-2.06.94z\"/><path d=\"M17.41 7.96l-1.37-1.37c-.4-.4-.92-.59-1.43-.59-.52 0-1.04.2-1.43.59L10.3 9.45l-7.72 7.72c-.78.78-.78 2.05 0 2.83L4 21.41c.39.39.9.59 1.41.59.51 0 1.02-.2 1.41-.59l7.78-7.78 2.81-2.81c.8-.78.8-2.07 0-2.86zM5.41 20L4 18.59l7.72-7.72 1.47 1.35L5.41 20z\"/>\n",
              "  </svg>\n",
              "      </button>\n",
              "      \n",
              "  <style>\n",
              "    .colab-df-container {\n",
              "      display:flex;\n",
              "      flex-wrap:wrap;\n",
              "      gap: 12px;\n",
              "    }\n",
              "\n",
              "    .colab-df-convert {\n",
              "      background-color: #E8F0FE;\n",
              "      border: none;\n",
              "      border-radius: 50%;\n",
              "      cursor: pointer;\n",
              "      display: none;\n",
              "      fill: #1967D2;\n",
              "      height: 32px;\n",
              "      padding: 0 0 0 0;\n",
              "      width: 32px;\n",
              "    }\n",
              "\n",
              "    .colab-df-convert:hover {\n",
              "      background-color: #E2EBFA;\n",
              "      box-shadow: 0px 1px 2px rgba(60, 64, 67, 0.3), 0px 1px 3px 1px rgba(60, 64, 67, 0.15);\n",
              "      fill: #174EA6;\n",
              "    }\n",
              "\n",
              "    [theme=dark] .colab-df-convert {\n",
              "      background-color: #3B4455;\n",
              "      fill: #D2E3FC;\n",
              "    }\n",
              "\n",
              "    [theme=dark] .colab-df-convert:hover {\n",
              "      background-color: #434B5C;\n",
              "      box-shadow: 0px 1px 3px 1px rgba(0, 0, 0, 0.15);\n",
              "      filter: drop-shadow(0px 1px 2px rgba(0, 0, 0, 0.3));\n",
              "      fill: #FFFFFF;\n",
              "    }\n",
              "  </style>\n",
              "\n",
              "      <script>\n",
              "        const buttonEl =\n",
              "          document.querySelector('#df-f7d08a39-c52e-4e55-a10c-f91b5616d488 button.colab-df-convert');\n",
              "        buttonEl.style.display =\n",
              "          google.colab.kernel.accessAllowed ? 'block' : 'none';\n",
              "\n",
              "        async function convertToInteractive(key) {\n",
              "          const element = document.querySelector('#df-f7d08a39-c52e-4e55-a10c-f91b5616d488');\n",
              "          const dataTable =\n",
              "            await google.colab.kernel.invokeFunction('convertToInteractive',\n",
              "                                                     [key], {});\n",
              "          if (!dataTable) return;\n",
              "\n",
              "          const docLinkHtml = 'Like what you see? Visit the ' +\n",
              "            '<a target=\"_blank\" href=https://colab.research.google.com/notebooks/data_table.ipynb>data table notebook</a>'\n",
              "            + ' to learn more about interactive tables.';\n",
              "          element.innerHTML = '';\n",
              "          dataTable['output_type'] = 'display_data';\n",
              "          await google.colab.output.renderOutput(dataTable, element);\n",
              "          const docLink = document.createElement('div');\n",
              "          docLink.innerHTML = docLinkHtml;\n",
              "          element.appendChild(docLink);\n",
              "        }\n",
              "      </script>\n",
              "    </div>\n",
              "  </div>\n",
              "  "
            ]
          },
          "metadata": {},
          "execution_count": 15
        }
      ]
    },
    {
      "cell_type": "code",
      "source": [
        "df_missing = df.na.fill(0)\n"
      ],
      "metadata": {
        "id": "Cp8H64h0xYKK"
      },
      "execution_count": null,
      "outputs": []
    },
    {
      "cell_type": "code",
      "source": [
        "df_missing.describe().toPandas().transpose()"
      ],
      "metadata": {
        "colab": {
          "base_uri": "https://localhost:8080/",
          "height": 426
        },
        "id": "mRDRVmzrxw7M",
        "outputId": "17b7c63e-54da-46c9-e1bb-5292cfb36cee"
      },
      "execution_count": null,
      "outputs": [
        {
          "output_type": "execute_result",
          "data": {
            "text/plain": [
              "                      0                   1                   2           3  \\\n",
              "summary           count                mean              stddev         min   \n",
              "userId             4619  1189.9647109764019   691.0986309664246           0   \n",
              "userSessionId      4619   17963.06798008227   7947.681126803095        5648   \n",
              "teamLevel          4619   4.355704697986577  1.9246625516949587           1   \n",
              "platformType       4619                None                None     android   \n",
              "count_gameclicks   4619  143.06300064949124  126.88339694316925           1   \n",
              "count_hits         4619  15.705780471963628  13.986901900918744           0   \n",
              "count_buyId        4619  1.6832034018426647  0.9005088871085436           1   \n",
              "avg_price          4619   7.214323175053155   6.536501375588665           1   \n",
              "country            4619                None                None          AD   \n",
              "adCategory         4619                None                None  automotive   \n",
              "price              4619   7.348560294436025  7.1247441191006216           1   \n",
              "\n",
              "                        4  \n",
              "summary               max  \n",
              "userId               2389  \n",
              "userSessionId       38722  \n",
              "teamLevel               8  \n",
              "platformType      windows  \n",
              "count_gameclicks     1207  \n",
              "count_hits            121  \n",
              "count_buyId          NULL  \n",
              "avg_price            NULL  \n",
              "country                ZW  \n",
              "adCategory         sports  \n",
              "price                  20  "
            ],
            "text/html": [
              "\n",
              "  <div id=\"df-2d37e788-8b82-452c-8a70-6087f41c4429\">\n",
              "    <div class=\"colab-df-container\">\n",
              "      <div>\n",
              "<style scoped>\n",
              "    .dataframe tbody tr th:only-of-type {\n",
              "        vertical-align: middle;\n",
              "    }\n",
              "\n",
              "    .dataframe tbody tr th {\n",
              "        vertical-align: top;\n",
              "    }\n",
              "\n",
              "    .dataframe thead th {\n",
              "        text-align: right;\n",
              "    }\n",
              "</style>\n",
              "<table border=\"1\" class=\"dataframe\">\n",
              "  <thead>\n",
              "    <tr style=\"text-align: right;\">\n",
              "      <th></th>\n",
              "      <th>0</th>\n",
              "      <th>1</th>\n",
              "      <th>2</th>\n",
              "      <th>3</th>\n",
              "      <th>4</th>\n",
              "    </tr>\n",
              "  </thead>\n",
              "  <tbody>\n",
              "    <tr>\n",
              "      <th>summary</th>\n",
              "      <td>count</td>\n",
              "      <td>mean</td>\n",
              "      <td>stddev</td>\n",
              "      <td>min</td>\n",
              "      <td>max</td>\n",
              "    </tr>\n",
              "    <tr>\n",
              "      <th>userId</th>\n",
              "      <td>4619</td>\n",
              "      <td>1189.9647109764019</td>\n",
              "      <td>691.0986309664246</td>\n",
              "      <td>0</td>\n",
              "      <td>2389</td>\n",
              "    </tr>\n",
              "    <tr>\n",
              "      <th>userSessionId</th>\n",
              "      <td>4619</td>\n",
              "      <td>17963.06798008227</td>\n",
              "      <td>7947.681126803095</td>\n",
              "      <td>5648</td>\n",
              "      <td>38722</td>\n",
              "    </tr>\n",
              "    <tr>\n",
              "      <th>teamLevel</th>\n",
              "      <td>4619</td>\n",
              "      <td>4.355704697986577</td>\n",
              "      <td>1.9246625516949587</td>\n",
              "      <td>1</td>\n",
              "      <td>8</td>\n",
              "    </tr>\n",
              "    <tr>\n",
              "      <th>platformType</th>\n",
              "      <td>4619</td>\n",
              "      <td>None</td>\n",
              "      <td>None</td>\n",
              "      <td>android</td>\n",
              "      <td>windows</td>\n",
              "    </tr>\n",
              "    <tr>\n",
              "      <th>count_gameclicks</th>\n",
              "      <td>4619</td>\n",
              "      <td>143.06300064949124</td>\n",
              "      <td>126.88339694316925</td>\n",
              "      <td>1</td>\n",
              "      <td>1207</td>\n",
              "    </tr>\n",
              "    <tr>\n",
              "      <th>count_hits</th>\n",
              "      <td>4619</td>\n",
              "      <td>15.705780471963628</td>\n",
              "      <td>13.986901900918744</td>\n",
              "      <td>0</td>\n",
              "      <td>121</td>\n",
              "    </tr>\n",
              "    <tr>\n",
              "      <th>count_buyId</th>\n",
              "      <td>4619</td>\n",
              "      <td>1.6832034018426647</td>\n",
              "      <td>0.9005088871085436</td>\n",
              "      <td>1</td>\n",
              "      <td>NULL</td>\n",
              "    </tr>\n",
              "    <tr>\n",
              "      <th>avg_price</th>\n",
              "      <td>4619</td>\n",
              "      <td>7.214323175053155</td>\n",
              "      <td>6.536501375588665</td>\n",
              "      <td>1</td>\n",
              "      <td>NULL</td>\n",
              "    </tr>\n",
              "    <tr>\n",
              "      <th>country</th>\n",
              "      <td>4619</td>\n",
              "      <td>None</td>\n",
              "      <td>None</td>\n",
              "      <td>AD</td>\n",
              "      <td>ZW</td>\n",
              "    </tr>\n",
              "    <tr>\n",
              "      <th>adCategory</th>\n",
              "      <td>4619</td>\n",
              "      <td>None</td>\n",
              "      <td>None</td>\n",
              "      <td>automotive</td>\n",
              "      <td>sports</td>\n",
              "    </tr>\n",
              "    <tr>\n",
              "      <th>price</th>\n",
              "      <td>4619</td>\n",
              "      <td>7.348560294436025</td>\n",
              "      <td>7.1247441191006216</td>\n",
              "      <td>1</td>\n",
              "      <td>20</td>\n",
              "    </tr>\n",
              "  </tbody>\n",
              "</table>\n",
              "</div>\n",
              "      <button class=\"colab-df-convert\" onclick=\"convertToInteractive('df-2d37e788-8b82-452c-8a70-6087f41c4429')\"\n",
              "              title=\"Convert this dataframe to an interactive table.\"\n",
              "              style=\"display:none;\">\n",
              "        \n",
              "  <svg xmlns=\"http://www.w3.org/2000/svg\" height=\"24px\"viewBox=\"0 0 24 24\"\n",
              "       width=\"24px\">\n",
              "    <path d=\"M0 0h24v24H0V0z\" fill=\"none\"/>\n",
              "    <path d=\"M18.56 5.44l.94 2.06.94-2.06 2.06-.94-2.06-.94-.94-2.06-.94 2.06-2.06.94zm-11 1L8.5 8.5l.94-2.06 2.06-.94-2.06-.94L8.5 2.5l-.94 2.06-2.06.94zm10 10l.94 2.06.94-2.06 2.06-.94-2.06-.94-.94-2.06-.94 2.06-2.06.94z\"/><path d=\"M17.41 7.96l-1.37-1.37c-.4-.4-.92-.59-1.43-.59-.52 0-1.04.2-1.43.59L10.3 9.45l-7.72 7.72c-.78.78-.78 2.05 0 2.83L4 21.41c.39.39.9.59 1.41.59.51 0 1.02-.2 1.41-.59l7.78-7.78 2.81-2.81c.8-.78.8-2.07 0-2.86zM5.41 20L4 18.59l7.72-7.72 1.47 1.35L5.41 20z\"/>\n",
              "  </svg>\n",
              "      </button>\n",
              "      \n",
              "  <style>\n",
              "    .colab-df-container {\n",
              "      display:flex;\n",
              "      flex-wrap:wrap;\n",
              "      gap: 12px;\n",
              "    }\n",
              "\n",
              "    .colab-df-convert {\n",
              "      background-color: #E8F0FE;\n",
              "      border: none;\n",
              "      border-radius: 50%;\n",
              "      cursor: pointer;\n",
              "      display: none;\n",
              "      fill: #1967D2;\n",
              "      height: 32px;\n",
              "      padding: 0 0 0 0;\n",
              "      width: 32px;\n",
              "    }\n",
              "\n",
              "    .colab-df-convert:hover {\n",
              "      background-color: #E2EBFA;\n",
              "      box-shadow: 0px 1px 2px rgba(60, 64, 67, 0.3), 0px 1px 3px 1px rgba(60, 64, 67, 0.15);\n",
              "      fill: #174EA6;\n",
              "    }\n",
              "\n",
              "    [theme=dark] .colab-df-convert {\n",
              "      background-color: #3B4455;\n",
              "      fill: #D2E3FC;\n",
              "    }\n",
              "\n",
              "    [theme=dark] .colab-df-convert:hover {\n",
              "      background-color: #434B5C;\n",
              "      box-shadow: 0px 1px 3px 1px rgba(0, 0, 0, 0.15);\n",
              "      filter: drop-shadow(0px 1px 2px rgba(0, 0, 0, 0.3));\n",
              "      fill: #FFFFFF;\n",
              "    }\n",
              "  </style>\n",
              "\n",
              "      <script>\n",
              "        const buttonEl =\n",
              "          document.querySelector('#df-2d37e788-8b82-452c-8a70-6087f41c4429 button.colab-df-convert');\n",
              "        buttonEl.style.display =\n",
              "          google.colab.kernel.accessAllowed ? 'block' : 'none';\n",
              "\n",
              "        async function convertToInteractive(key) {\n",
              "          const element = document.querySelector('#df-2d37e788-8b82-452c-8a70-6087f41c4429');\n",
              "          const dataTable =\n",
              "            await google.colab.kernel.invokeFunction('convertToInteractive',\n",
              "                                                     [key], {});\n",
              "          if (!dataTable) return;\n",
              "\n",
              "          const docLinkHtml = 'Like what you see? Visit the ' +\n",
              "            '<a target=\"_blank\" href=https://colab.research.google.com/notebooks/data_table.ipynb>data table notebook</a>'\n",
              "            + ' to learn more about interactive tables.';\n",
              "          element.innerHTML = '';\n",
              "          dataTable['output_type'] = 'display_data';\n",
              "          await google.colab.output.renderOutput(dataTable, element);\n",
              "          const docLink = document.createElement('div');\n",
              "          docLink.innerHTML = docLinkHtml;\n",
              "          element.appendChild(docLink);\n",
              "        }\n",
              "      </script>\n",
              "    </div>\n",
              "  </div>\n",
              "  "
            ]
          },
          "metadata": {},
          "execution_count": 17
        }
      ]
    },
    {
      "cell_type": "code",
      "source": [
        "df1=df_missing"
      ],
      "metadata": {
        "id": "M6L0R7u99OaE"
      },
      "execution_count": null,
      "outputs": []
    },
    {
      "cell_type": "code",
      "source": [
        "df1"
      ],
      "metadata": {
        "colab": {
          "base_uri": "https://localhost:8080/"
        },
        "id": "XhCIRykL9YbI",
        "outputId": "4509ae41-fbba-4208-b81a-480169cc64ee"
      },
      "execution_count": null,
      "outputs": [
        {
          "output_type": "execute_result",
          "data": {
            "text/plain": [
              "DataFrame[userId: int, userSessionId: int, teamLevel: int, platformType: string, count_gameclicks: int, count_hits: int, count_buyId: string, avg_price: string, country: string, adCategory: string, price: int]"
            ]
          },
          "metadata": {},
          "execution_count": 19
        }
      ]
    },
    {
      "cell_type": "code",
      "source": [],
      "metadata": {
        "id": "8wf7Gx6Ywk34"
      },
      "execution_count": null,
      "outputs": []
    },
    {
      "cell_type": "code",
      "source": [
        "# import packages\n",
        "from pyspark.ml.feature import StringIndexer, OneHotEncoder\n",
        "# conversion platformtype to numerical\n",
        "indexer = StringIndexer(inputCol='platformType', outputCol='platformType_num').fit(df1)\n",
        "indexed_df = indexer.transform(df1)\n",
        "# conversion adcategory to numerical\n",
        "indexer = StringIndexer(inputCol='adCategory', outputCol='adCategory_num').fit(indexed_df)\n",
        "indexed_df = indexer.transform(indexed_df)\n",
        "# conversion adcategory to numerical\n",
        "indexer = StringIndexer(inputCol='country', outputCol='country_num').fit(indexed_df)\n",
        "df1 = indexer.transform(indexed_df)"
      ],
      "metadata": {
        "id": "bwn2WeES89gy"
      },
      "execution_count": null,
      "outputs": []
    },
    {
      "cell_type": "code",
      "source": [
        "df1.show()"
      ],
      "metadata": {
        "colab": {
          "base_uri": "https://localhost:8080/"
        },
        "id": "Dgv-Rc_F97-7",
        "outputId": "b5580eb7-9c09-4d00-c72a-3ec25e866b15"
      },
      "execution_count": null,
      "outputs": [
        {
          "output_type": "stream",
          "name": "stdout",
          "text": [
            "+------+-------------+---------+------------+----------------+----------+-----------+---------+-------+-----------+-----+----------------+--------------+-----------+\n",
            "|userId|userSessionId|teamLevel|platformType|count_gameclicks|count_hits|count_buyId|avg_price|country| adCategory|price|platformType_num|adCategory_num|country_num|\n",
            "+------+-------------+---------+------------+----------------+----------+-----------+---------+-------+-----------+-----+----------------+--------------+-----------+\n",
            "|   812|         5648|        1|     android|              69|         8|       NULL|     NULL|     BA|electronics|    3|             1.0|           7.0|      103.0|\n",
            "|  1658|         5649|        1|      iphone|              31|         5|       NULL|     NULL|     HU|     movies|   10|             0.0|           4.0|      122.0|\n",
            "|  1589|         5650|        1|      iphone|              26|         2|       NULL|     NULL|     IS|  computers|   20|             0.0|           1.0|       72.0|\n",
            "|  1863|         5651|        1|     android|              35|         4|       NULL|     NULL|     AM|    fashion|    3|             1.0|           5.0|       56.0|\n",
            "|   937|         5652|        1|     android|              39|         0|          1|        1|     CC|   clothing|   20|             1.0|           2.0|       30.0|\n",
            "|   342|         5653|        1|     android|              36|         5|       NULL|     NULL|     MH|      games|   20|             1.0|           0.0|        6.0|\n",
            "|   849|         5654|        1|      iphone|              40|         5|       NULL|     NULL|     SM|     movies|   20|             0.0|           4.0|      188.0|\n",
            "|  1277|         5655|        1|     windows|              46|         8|       NULL|     NULL|     BZ|electronics|    3|             2.0|           7.0|       29.0|\n",
            "|  2203|         5656|        1|     android|              68|         6|       NULL|     NULL|     PF|electronics|   20|             1.0|           7.0|      183.0|\n",
            "|   585|         5657|        1|      iphone|              76|         9|       NULL|     NULL|     JO|  computers|    2|             0.0|           1.0|      174.0|\n",
            "|  1370|         5658|        1|      iphone|              69|         6|       NULL|     NULL|     GW|      games|   10|             0.0|           0.0|      230.0|\n",
            "|  1623|         5659|        1|      iphone|             129|         9|          1|       10|     CK|     movies|    5|             0.0|           4.0|      204.0|\n",
            "|   881|         5660|        1|      iphone|              36|         6|       NULL|     NULL|     MD|electronics|   20|             0.0|           7.0|       17.0|\n",
            "|    83|         5661|        1|     android|             102|        14|          1|        5|     HK| automotive|    5|             1.0|           8.0|        3.0|\n",
            "|   453|         5662|        1|     android|             102|         7|       NULL|     NULL|     QA|     sports|    1|             1.0|           3.0|      139.0|\n",
            "|  1966|         5663|        1|      iphone|              63|         8|       NULL|     NULL|     ZA|  computers|    1|             0.0|           1.0|      157.0|\n",
            "|  1073|         5664|        1|     android|             141|        21|       NULL|     NULL|     SE|electronics|   20|             1.0|           7.0|      143.0|\n",
            "|   121|         5665|        1|     android|              39|         4|          1|        3|     MM|    fashion|    3|             1.0|           5.0|      132.0|\n",
            "|   462|         5666|        1|     android|              90|        10|          1|        3|     FO|      games|    2|             1.0|           0.0|       67.0|\n",
            "|   708|         5667|        1|      iphone|              32|         2|       NULL|     NULL|     DJ|electronics|    1|             0.0|           7.0|      113.0|\n",
            "+------+-------------+---------+------------+----------------+----------+-----------+---------+-------+-----------+-----+----------------+--------------+-----------+\n",
            "only showing top 20 rows\n",
            "\n"
          ]
        }
      ]
    },
    {
      "cell_type": "code",
      "source": [
        "df2=df1.drop(\"adCategory\",\"platformType\",\"country\")"
      ],
      "metadata": {
        "id": "OfPvKij_IRQu"
      },
      "execution_count": null,
      "outputs": []
    },
    {
      "cell_type": "code",
      "source": [
        "df2.show()"
      ],
      "metadata": {
        "colab": {
          "base_uri": "https://localhost:8080/"
        },
        "id": "w8cUOMnWI50I",
        "outputId": "8dd2d7a3-18cb-4a87-975f-cc4aab15d08c"
      },
      "execution_count": null,
      "outputs": [
        {
          "output_type": "stream",
          "name": "stdout",
          "text": [
            "+------+-------------+---------+----------------+----------+-----------+---------+-----+----------------+--------------+-----------+\n",
            "|userId|userSessionId|teamLevel|count_gameclicks|count_hits|count_buyId|avg_price|price|platformType_num|adCategory_num|country_num|\n",
            "+------+-------------+---------+----------------+----------+-----------+---------+-----+----------------+--------------+-----------+\n",
            "|   812|         5648|        1|              69|         8|       NULL|     NULL|    3|             1.0|           7.0|      103.0|\n",
            "|  1658|         5649|        1|              31|         5|       NULL|     NULL|   10|             0.0|           4.0|      122.0|\n",
            "|  1589|         5650|        1|              26|         2|       NULL|     NULL|   20|             0.0|           1.0|       72.0|\n",
            "|  1863|         5651|        1|              35|         4|       NULL|     NULL|    3|             1.0|           5.0|       56.0|\n",
            "|   937|         5652|        1|              39|         0|          1|        1|   20|             1.0|           2.0|       30.0|\n",
            "|   342|         5653|        1|              36|         5|       NULL|     NULL|   20|             1.0|           0.0|        6.0|\n",
            "|   849|         5654|        1|              40|         5|       NULL|     NULL|   20|             0.0|           4.0|      188.0|\n",
            "|  1277|         5655|        1|              46|         8|       NULL|     NULL|    3|             2.0|           7.0|       29.0|\n",
            "|  2203|         5656|        1|              68|         6|       NULL|     NULL|   20|             1.0|           7.0|      183.0|\n",
            "|   585|         5657|        1|              76|         9|       NULL|     NULL|    2|             0.0|           1.0|      174.0|\n",
            "|  1370|         5658|        1|              69|         6|       NULL|     NULL|   10|             0.0|           0.0|      230.0|\n",
            "|  1623|         5659|        1|             129|         9|          1|       10|    5|             0.0|           4.0|      204.0|\n",
            "|   881|         5660|        1|              36|         6|       NULL|     NULL|   20|             0.0|           7.0|       17.0|\n",
            "|    83|         5661|        1|             102|        14|          1|        5|    5|             1.0|           8.0|        3.0|\n",
            "|   453|         5662|        1|             102|         7|       NULL|     NULL|    1|             1.0|           3.0|      139.0|\n",
            "|  1966|         5663|        1|              63|         8|       NULL|     NULL|    1|             0.0|           1.0|      157.0|\n",
            "|  1073|         5664|        1|             141|        21|       NULL|     NULL|   20|             1.0|           7.0|      143.0|\n",
            "|   121|         5665|        1|              39|         4|          1|        3|    3|             1.0|           5.0|      132.0|\n",
            "|   462|         5666|        1|              90|        10|          1|        3|    2|             1.0|           0.0|       67.0|\n",
            "|   708|         5667|        1|              32|         2|       NULL|     NULL|    1|             0.0|           7.0|      113.0|\n",
            "+------+-------------+---------+----------------+----------+-----------+---------+-----+----------------+--------------+-----------+\n",
            "only showing top 20 rows\n",
            "\n"
          ]
        }
      ]
    },
    {
      "cell_type": "code",
      "source": [
        "df2.describe().toPandas().transpose()"
      ],
      "metadata": {
        "colab": {
          "base_uri": "https://localhost:8080/",
          "height": 426
        },
        "id": "dZLh1t4uZSeX",
        "outputId": "d885472f-170b-4a6c-d149-3f9e0ece810c"
      },
      "execution_count": null,
      "outputs": [
        {
          "output_type": "execute_result",
          "data": {
            "text/plain": [
              "                      0                   1                   2     3      4\n",
              "summary           count                mean              stddev   min    max\n",
              "userId             4619  1189.9647109764019   691.0986309664246     0   2389\n",
              "userSessionId      4619   17963.06798008227   7947.681126803095  5648  38722\n",
              "teamLevel          4619   4.355704697986577  1.9246625516949587     1      8\n",
              "count_gameclicks   4619  143.06300064949124  126.88339694316925     1   1207\n",
              "count_hits         4619  15.705780471963628  13.986901900918744     0    121\n",
              "count_buyId        4619  1.6832034018426647  0.9005088871085436     1   NULL\n",
              "avg_price          4619   7.214323175053155   6.536501375588665     1   NULL\n",
              "price              4619   7.348560294436025  7.1247441191006216     1     20\n",
              "platformType_num   4619  0.9406798008226889  1.0566199434719692   0.0    4.0\n",
              "adCategory_num     4619   3.110630006494912   2.363211807002399   0.0    8.0\n",
              "country_num        4619  113.57609872266724   69.28865501348024   0.0  240.0"
            ],
            "text/html": [
              "\n",
              "  <div id=\"df-1a837190-1d02-47aa-a474-fb0029d06018\">\n",
              "    <div class=\"colab-df-container\">\n",
              "      <div>\n",
              "<style scoped>\n",
              "    .dataframe tbody tr th:only-of-type {\n",
              "        vertical-align: middle;\n",
              "    }\n",
              "\n",
              "    .dataframe tbody tr th {\n",
              "        vertical-align: top;\n",
              "    }\n",
              "\n",
              "    .dataframe thead th {\n",
              "        text-align: right;\n",
              "    }\n",
              "</style>\n",
              "<table border=\"1\" class=\"dataframe\">\n",
              "  <thead>\n",
              "    <tr style=\"text-align: right;\">\n",
              "      <th></th>\n",
              "      <th>0</th>\n",
              "      <th>1</th>\n",
              "      <th>2</th>\n",
              "      <th>3</th>\n",
              "      <th>4</th>\n",
              "    </tr>\n",
              "  </thead>\n",
              "  <tbody>\n",
              "    <tr>\n",
              "      <th>summary</th>\n",
              "      <td>count</td>\n",
              "      <td>mean</td>\n",
              "      <td>stddev</td>\n",
              "      <td>min</td>\n",
              "      <td>max</td>\n",
              "    </tr>\n",
              "    <tr>\n",
              "      <th>userId</th>\n",
              "      <td>4619</td>\n",
              "      <td>1189.9647109764019</td>\n",
              "      <td>691.0986309664246</td>\n",
              "      <td>0</td>\n",
              "      <td>2389</td>\n",
              "    </tr>\n",
              "    <tr>\n",
              "      <th>userSessionId</th>\n",
              "      <td>4619</td>\n",
              "      <td>17963.06798008227</td>\n",
              "      <td>7947.681126803095</td>\n",
              "      <td>5648</td>\n",
              "      <td>38722</td>\n",
              "    </tr>\n",
              "    <tr>\n",
              "      <th>teamLevel</th>\n",
              "      <td>4619</td>\n",
              "      <td>4.355704697986577</td>\n",
              "      <td>1.9246625516949587</td>\n",
              "      <td>1</td>\n",
              "      <td>8</td>\n",
              "    </tr>\n",
              "    <tr>\n",
              "      <th>count_gameclicks</th>\n",
              "      <td>4619</td>\n",
              "      <td>143.06300064949124</td>\n",
              "      <td>126.88339694316925</td>\n",
              "      <td>1</td>\n",
              "      <td>1207</td>\n",
              "    </tr>\n",
              "    <tr>\n",
              "      <th>count_hits</th>\n",
              "      <td>4619</td>\n",
              "      <td>15.705780471963628</td>\n",
              "      <td>13.986901900918744</td>\n",
              "      <td>0</td>\n",
              "      <td>121</td>\n",
              "    </tr>\n",
              "    <tr>\n",
              "      <th>count_buyId</th>\n",
              "      <td>4619</td>\n",
              "      <td>1.6832034018426647</td>\n",
              "      <td>0.9005088871085436</td>\n",
              "      <td>1</td>\n",
              "      <td>NULL</td>\n",
              "    </tr>\n",
              "    <tr>\n",
              "      <th>avg_price</th>\n",
              "      <td>4619</td>\n",
              "      <td>7.214323175053155</td>\n",
              "      <td>6.536501375588665</td>\n",
              "      <td>1</td>\n",
              "      <td>NULL</td>\n",
              "    </tr>\n",
              "    <tr>\n",
              "      <th>price</th>\n",
              "      <td>4619</td>\n",
              "      <td>7.348560294436025</td>\n",
              "      <td>7.1247441191006216</td>\n",
              "      <td>1</td>\n",
              "      <td>20</td>\n",
              "    </tr>\n",
              "    <tr>\n",
              "      <th>platformType_num</th>\n",
              "      <td>4619</td>\n",
              "      <td>0.9406798008226889</td>\n",
              "      <td>1.0566199434719692</td>\n",
              "      <td>0.0</td>\n",
              "      <td>4.0</td>\n",
              "    </tr>\n",
              "    <tr>\n",
              "      <th>adCategory_num</th>\n",
              "      <td>4619</td>\n",
              "      <td>3.110630006494912</td>\n",
              "      <td>2.363211807002399</td>\n",
              "      <td>0.0</td>\n",
              "      <td>8.0</td>\n",
              "    </tr>\n",
              "    <tr>\n",
              "      <th>country_num</th>\n",
              "      <td>4619</td>\n",
              "      <td>113.57609872266724</td>\n",
              "      <td>69.28865501348024</td>\n",
              "      <td>0.0</td>\n",
              "      <td>240.0</td>\n",
              "    </tr>\n",
              "  </tbody>\n",
              "</table>\n",
              "</div>\n",
              "      <button class=\"colab-df-convert\" onclick=\"convertToInteractive('df-1a837190-1d02-47aa-a474-fb0029d06018')\"\n",
              "              title=\"Convert this dataframe to an interactive table.\"\n",
              "              style=\"display:none;\">\n",
              "        \n",
              "  <svg xmlns=\"http://www.w3.org/2000/svg\" height=\"24px\"viewBox=\"0 0 24 24\"\n",
              "       width=\"24px\">\n",
              "    <path d=\"M0 0h24v24H0V0z\" fill=\"none\"/>\n",
              "    <path d=\"M18.56 5.44l.94 2.06.94-2.06 2.06-.94-2.06-.94-.94-2.06-.94 2.06-2.06.94zm-11 1L8.5 8.5l.94-2.06 2.06-.94-2.06-.94L8.5 2.5l-.94 2.06-2.06.94zm10 10l.94 2.06.94-2.06 2.06-.94-2.06-.94-.94-2.06-.94 2.06-2.06.94z\"/><path d=\"M17.41 7.96l-1.37-1.37c-.4-.4-.92-.59-1.43-.59-.52 0-1.04.2-1.43.59L10.3 9.45l-7.72 7.72c-.78.78-.78 2.05 0 2.83L4 21.41c.39.39.9.59 1.41.59.51 0 1.02-.2 1.41-.59l7.78-7.78 2.81-2.81c.8-.78.8-2.07 0-2.86zM5.41 20L4 18.59l7.72-7.72 1.47 1.35L5.41 20z\"/>\n",
              "  </svg>\n",
              "      </button>\n",
              "      \n",
              "  <style>\n",
              "    .colab-df-container {\n",
              "      display:flex;\n",
              "      flex-wrap:wrap;\n",
              "      gap: 12px;\n",
              "    }\n",
              "\n",
              "    .colab-df-convert {\n",
              "      background-color: #E8F0FE;\n",
              "      border: none;\n",
              "      border-radius: 50%;\n",
              "      cursor: pointer;\n",
              "      display: none;\n",
              "      fill: #1967D2;\n",
              "      height: 32px;\n",
              "      padding: 0 0 0 0;\n",
              "      width: 32px;\n",
              "    }\n",
              "\n",
              "    .colab-df-convert:hover {\n",
              "      background-color: #E2EBFA;\n",
              "      box-shadow: 0px 1px 2px rgba(60, 64, 67, 0.3), 0px 1px 3px 1px rgba(60, 64, 67, 0.15);\n",
              "      fill: #174EA6;\n",
              "    }\n",
              "\n",
              "    [theme=dark] .colab-df-convert {\n",
              "      background-color: #3B4455;\n",
              "      fill: #D2E3FC;\n",
              "    }\n",
              "\n",
              "    [theme=dark] .colab-df-convert:hover {\n",
              "      background-color: #434B5C;\n",
              "      box-shadow: 0px 1px 3px 1px rgba(0, 0, 0, 0.15);\n",
              "      filter: drop-shadow(0px 1px 2px rgba(0, 0, 0, 0.3));\n",
              "      fill: #FFFFFF;\n",
              "    }\n",
              "  </style>\n",
              "\n",
              "      <script>\n",
              "        const buttonEl =\n",
              "          document.querySelector('#df-1a837190-1d02-47aa-a474-fb0029d06018 button.colab-df-convert');\n",
              "        buttonEl.style.display =\n",
              "          google.colab.kernel.accessAllowed ? 'block' : 'none';\n",
              "\n",
              "        async function convertToInteractive(key) {\n",
              "          const element = document.querySelector('#df-1a837190-1d02-47aa-a474-fb0029d06018');\n",
              "          const dataTable =\n",
              "            await google.colab.kernel.invokeFunction('convertToInteractive',\n",
              "                                                     [key], {});\n",
              "          if (!dataTable) return;\n",
              "\n",
              "          const docLinkHtml = 'Like what you see? Visit the ' +\n",
              "            '<a target=\"_blank\" href=https://colab.research.google.com/notebooks/data_table.ipynb>data table notebook</a>'\n",
              "            + ' to learn more about interactive tables.';\n",
              "          element.innerHTML = '';\n",
              "          dataTable['output_type'] = 'display_data';\n",
              "          await google.colab.output.renderOutput(dataTable, element);\n",
              "          const docLink = document.createElement('div');\n",
              "          docLink.innerHTML = docLinkHtml;\n",
              "          element.appendChild(docLink);\n",
              "        }\n",
              "      </script>\n",
              "    </div>\n",
              "  </div>\n",
              "  "
            ]
          },
          "metadata": {},
          "execution_count": 24
        }
      ]
    },
    {
      "cell_type": "code",
      "source": [
        "# if there any null value the row will be droped and the count will be shown remaining\n",
        "df3 = df2.na.drop(subset=['price'])\n",
        "df3.count()"
      ],
      "metadata": {
        "colab": {
          "base_uri": "https://localhost:8080/"
        },
        "id": "LNngAB6ILDSe",
        "outputId": "0f1c20d5-5224-4b0c-c3f5-f9d57d9f5686"
      },
      "execution_count": null,
      "outputs": [
        {
          "output_type": "execute_result",
          "data": {
            "text/plain": [
              "4619"
            ]
          },
          "metadata": {},
          "execution_count": 25
        }
      ]
    },
    {
      "cell_type": "code",
      "source": [
        "from pyspark.sql.functions import corr\n",
        "df2.select(corr(\"price\",\"country_num\")).show()"
      ],
      "metadata": {
        "colab": {
          "base_uri": "https://localhost:8080/"
        },
        "id": "mMaBpElAaGBS",
        "outputId": "037d8b26-e4dd-4ead-8a28-b933a37d8b82"
      },
      "execution_count": null,
      "outputs": [
        {
          "output_type": "stream",
          "name": "stdout",
          "text": [
            "+------------------------+\n",
            "|corr(price, country_num)|\n",
            "+------------------------+\n",
            "|    0.021458797807482485|\n",
            "+------------------------+\n",
            "\n"
          ]
        }
      ]
    },
    {
      "cell_type": "code",
      "source": [
        "df3 = df2.toPandas()\n",
        "df3.plot.scatter(x='count_gameclicks', y='userSessionId', c='DarkGreen')"
      ],
      "metadata": {
        "colab": {
          "base_uri": "https://localhost:8080/",
          "height": 468
        },
        "id": "h39oYkq6a-SH",
        "outputId": "e3a09c34-9fc5-466f-f0b0-bef1f26d2788"
      },
      "execution_count": null,
      "outputs": [
        {
          "output_type": "execute_result",
          "data": {
            "text/plain": [
              "<Axes: xlabel='count_gameclicks', ylabel='userSessionId'>"
            ]
          },
          "metadata": {},
          "execution_count": 27
        },
        {
          "output_type": "display_data",
          "data": {
            "text/plain": [
              "<Figure size 640x480 with 1 Axes>"
            ],
            "image/png": "[encoded data removed]"
          },
          "metadata": {}
        }
      ]
    },
    {
      "cell_type": "code",
      "source": [
        "df3.hist(column='userSessionId', bins=10)"
      ],
      "metadata": {
        "colab": {
          "base_uri": "https://localhost:8080/",
          "height": 469
        },
        "id": "Xy8MOpJJi7kQ",
        "outputId": "c9015905-59f4-4959-d890-d6ab8ab8c259"
      },
      "execution_count": null,
      "outputs": [
        {
          "output_type": "execute_result",
          "data": {
            "text/plain": [
              "array([[<Axes: title={'center': 'userSessionId'}>]], dtype=object)"
            ]
          },
          "metadata": {},
          "execution_count": 28
        },
        {
          "output_type": "display_data",
          "data": {
            "text/plain": [
              "<Figure size 640x480 with 1 Axes>"
            ],
            "image/png": "[encoded data removed]"
          },
          "metadata": {}
        }
      ]
    },
    {
      "cell_type": "markdown",
      "source": [],
      "metadata": {
        "id": "bxY3n3ChV8kY"
      }
    },
    {
      "cell_type": "code",
      "source": [
        "from pyspark.sql.types import StructType, StructField, IntegerType\n",
        "from pyspark.sql.functions import isnan, when, col,count,lit, regexp_extract, mean, avg, split\n",
        "from pyspark.ml.feature import StringIndexer, OneHotEncoder, VectorAssembler\n",
        "from pyspark.ml import Pipeline\n",
        "\n",
        "import pandas as pd \n",
        "import numpy as np\n",
        "\n",
        "import seaborn as sns\n",
        "import matplotlib as mpl\n",
        "from matplotlib import pyplot as plt\n",
        "plt.rcParams[\"figure.figsize\"] = (13,6)\n",
        "\n",
        "import warnings\n",
        "warnings.filterwarnings(\"ignore\", category=DeprecationWarning) "
      ],
      "metadata": {
        "id": "8_XqpAmuIiXU"
      },
      "execution_count": null,
      "outputs": []
    },
    {
      "cell_type": "code",
      "source": [
        "# File location and type\n",
        "file_location = \"/content/drive/MyDrive/Big Data Management/datasets/flamingo-data/user-session.csv\"\n",
        "file_type = \"csv\"\n",
        "\n",
        "# CSV options\n",
        "infer_schema = \"true\"\n",
        "first_row_is_header = \"true\"\n",
        "delimiter = \",\"\n",
        "\n",
        "df = spark.read.format(file_type) \\\n",
        "  .option(\"inferSchema\", infer_schema) \\\n",
        "  .option(\"header\", first_row_is_header) \\\n",
        "  .option(\"sep\", delimiter) \\\n",
        "  .load(file_location)"
      ],
      "metadata": {
        "id": "3wJz82RvIjFH"
      },
      "execution_count": null,
      "outputs": []
    },
    {
      "cell_type": "code",
      "source": [
        "display(df.head(5))"
      ],
      "metadata": {
        "colab": {
          "base_uri": "https://localhost:8080/",
          "height": 191
        },
        "id": "TYljKGnrIq__",
        "outputId": "39edc5b9-68d0-4528-916e-457b2361d208"
      },
      "execution_count": null,
      "outputs": [
        {
          "output_type": "display_data",
          "data": {
            "text/plain": [
              "[Row(timestamp='2016-05-26 14:47:30', userSessionId=5675, userId=170, teamId=90, assignmentId=5423, sessionType='start', teamLevel=1, platformType='iphone'),\n",
              " Row(timestamp='2016-05-27 00:06:54', userSessionId=5675, userId=170, teamId=90, assignmentId=5423, sessionType='end', teamLevel=1, platformType='iphone'),\n",
              " Row(timestamp='2016-05-26 14:43:09', userSessionId=5795, userId=835, teamId=39, assignmentId=5300, sessionType='start', teamLevel=1, platformType='android'),\n",
              " Row(timestamp='2016-05-27 08:06:54', userSessionId=5795, userId=835, teamId=39, assignmentId=5300, sessionType='end', teamLevel=1, platformType='android'),\n",
              " Row(timestamp='2016-05-26 14:47:20', userSessionId=5833, userId=624, teamId=2, assignmentId=5529, sessionType='start', teamLevel=1, platformType='iphone')]"
            ]
          },
          "metadata": {}
        }
      ]
    },
    {
      "cell_type": "code",
      "source": [
        "df.toPandas().describe()"
      ],
      "metadata": {
        "colab": {
          "base_uri": "https://localhost:8080/",
          "height": 300
        },
        "id": "i44sfkvJIvvj",
        "outputId": "92a44452-0e4f-43af-8f6e-274936529e66"
      },
      "execution_count": null,
      "outputs": [
        {
          "output_type": "execute_result",
          "data": {
            "text/plain": [
              "       userSessionId       userId       teamId  assignmentId    teamLevel\n",
              "count    9250.000000  9250.000000  9250.000000   9250.000000  9250.000000\n",
              "mean    17973.522595  1189.691243    72.390703  10288.336000     4.357405\n",
              "std      7953.932719   691.044505    41.458779   6960.614801     1.924862\n",
              "min      5648.000000     0.000000     2.000000   5002.000000     1.000000\n",
              "25%     10228.000000   595.000000    36.000000   5309.000000     3.000000\n",
              "50%     16712.000000  1173.000000    71.000000   6018.000000     5.000000\n",
              "75%     26326.000000  1765.000000   103.000000  13947.000000     6.000000\n",
              "max     38722.000000  2389.000000   179.000000  37948.000000     8.000000"
            ],
            "text/html": [
              "\n",
              "  <div id=\"df-9b73af1d-58f6-4fe7-9b8f-52cea296de37\">\n",
              "    <div class=\"colab-df-container\">\n",
              "      <div>\n",
              "<style scoped>\n",
              "    .dataframe tbody tr th:only-of-type {\n",
              "        vertical-align: middle;\n",
              "    }\n",
              "\n",
              "    .dataframe tbody tr th {\n",
              "        vertical-align: top;\n",
              "    }\n",
              "\n",
              "    .dataframe thead th {\n",
              "        text-align: right;\n",
              "    }\n",
              "</style>\n",
              "<table border=\"1\" class=\"dataframe\">\n",
              "  <thead>\n",
              "    <tr style=\"text-align: right;\">\n",
              "      <th></th>\n",
              "      <th>userSessionId</th>\n",
              "      <th>userId</th>\n",
              "      <th>teamId</th>\n",
              "      <th>assignmentId</th>\n",
              "      <th>teamLevel</th>\n",
              "    </tr>\n",
              "  </thead>\n",
              "  <tbody>\n",
              "    <tr>\n",
              "      <th>count</th>\n",
              "      <td>9250.000000</td>\n",
              "      <td>9250.000000</td>\n",
              "      <td>9250.000000</td>\n",
              "      <td>9250.000000</td>\n",
              "      <td>9250.000000</td>\n",
              "    </tr>\n",
              "    <tr>\n",
              "      <th>mean</th>\n",
              "      <td>17973.522595</td>\n",
              "      <td>1189.691243</td>\n",
              "      <td>72.390703</td>\n",
              "      <td>10288.336000</td>\n",
              "      <td>4.357405</td>\n",
              "    </tr>\n",
              "    <tr>\n",
              "      <th>std</th>\n",
              "      <td>7953.932719</td>\n",
              "      <td>691.044505</td>\n",
              "      <td>41.458779</td>\n",
              "      <td>6960.614801</td>\n",
              "      <td>1.924862</td>\n",
              "    </tr>\n",
              "    <tr>\n",
              "      <th>min</th>\n",
              "      <td>5648.000000</td>\n",
              "      <td>0.000000</td>\n",
              "      <td>2.000000</td>\n",
              "      <td>5002.000000</td>\n",
              "      <td>1.000000</td>\n",
              "    </tr>\n",
              "    <tr>\n",
              "      <th>25%</th>\n",
              "      <td>10228.000000</td>\n",
              "      <td>595.000000</td>\n",
              "      <td>36.000000</td>\n",
              "      <td>5309.000000</td>\n",
              "      <td>3.000000</td>\n",
              "    </tr>\n",
              "    <tr>\n",
              "      <th>50%</th>\n",
              "      <td>16712.000000</td>\n",
              "      <td>1173.000000</td>\n",
              "      <td>71.000000</td>\n",
              "      <td>6018.000000</td>\n",
              "      <td>5.000000</td>\n",
              "    </tr>\n",
              "    <tr>\n",
              "      <th>75%</th>\n",
              "      <td>26326.000000</td>\n",
              "      <td>1765.000000</td>\n",
              "      <td>103.000000</td>\n",
              "      <td>13947.000000</td>\n",
              "      <td>6.000000</td>\n",
              "    </tr>\n",
              "    <tr>\n",
              "      <th>max</th>\n",
              "      <td>38722.000000</td>\n",
              "      <td>2389.000000</td>\n",
              "      <td>179.000000</td>\n",
              "      <td>37948.000000</td>\n",
              "      <td>8.000000</td>\n",
              "    </tr>\n",
              "  </tbody>\n",
              "</table>\n",
              "</div>\n",
              "      <button class=\"colab-df-convert\" onclick=\"convertToInteractive('df-9b73af1d-58f6-4fe7-9b8f-52cea296de37')\"\n",
              "              title=\"Convert this dataframe to an interactive table.\"\n",
              "              style=\"display:none;\">\n",
              "        \n",
              "  <svg xmlns=\"http://www.w3.org/2000/svg\" height=\"24px\"viewBox=\"0 0 24 24\"\n",
              "       width=\"24px\">\n",
              "    <path d=\"M0 0h24v24H0V0z\" fill=\"none\"/>\n",
              "    <path d=\"M18.56 5.44l.94 2.06.94-2.06 2.06-.94-2.06-.94-.94-2.06-.94 2.06-2.06.94zm-11 1L8.5 8.5l.94-2.06 2.06-.94-2.06-.94L8.5 2.5l-.94 2.06-2.06.94zm10 10l.94 2.06.94-2.06 2.06-.94-2.06-.94-.94-2.06-.94 2.06-2.06.94z\"/><path d=\"M17.41 7.96l-1.37-1.37c-.4-.4-.92-.59-1.43-.59-.52 0-1.04.2-1.43.59L10.3 9.45l-7.72 7.72c-.78.78-.78 2.05 0 2.83L4 21.41c.39.39.9.59 1.41.59.51 0 1.02-.2 1.41-.59l7.78-7.78 2.81-2.81c.8-.78.8-2.07 0-2.86zM5.41 20L4 18.59l7.72-7.72 1.47 1.35L5.41 20z\"/>\n",
              "  </svg>\n",
              "      </button>\n",
              "      \n",
              "  <style>\n",
              "    .colab-df-container {\n",
              "      display:flex;\n",
              "      flex-wrap:wrap;\n",
              "      gap: 12px;\n",
              "    }\n",
              "\n",
              "    .colab-df-convert {\n",
              "      background-color: #E8F0FE;\n",
              "      border: none;\n",
              "      border-radius: 50%;\n",
              "      cursor: pointer;\n",
              "      display: none;\n",
              "      fill: #1967D2;\n",
              "      height: 32px;\n",
              "      padding: 0 0 0 0;\n",
              "      width: 32px;\n",
              "    }\n",
              "\n",
              "    .colab-df-convert:hover {\n",
              "      background-color: #E2EBFA;\n",
              "      box-shadow: 0px 1px 2px rgba(60, 64, 67, 0.3), 0px 1px 3px 1px rgba(60, 64, 67, 0.15);\n",
              "      fill: #174EA6;\n",
              "    }\n",
              "\n",
              "    [theme=dark] .colab-df-convert {\n",
              "      background-color: #3B4455;\n",
              "      fill: #D2E3FC;\n",
              "    }\n",
              "\n",
              "    [theme=dark] .colab-df-convert:hover {\n",
              "      background-color: #434B5C;\n",
              "      box-shadow: 0px 1px 3px 1px rgba(0, 0, 0, 0.15);\n",
              "      filter: drop-shadow(0px 1px 2px rgba(0, 0, 0, 0.3));\n",
              "      fill: #FFFFFF;\n",
              "    }\n",
              "  </style>\n",
              "\n",
              "      <script>\n",
              "        const buttonEl =\n",
              "          document.querySelector('#df-9b73af1d-58f6-4fe7-9b8f-52cea296de37 button.colab-df-convert');\n",
              "        buttonEl.style.display =\n",
              "          google.colab.kernel.accessAllowed ? 'block' : 'none';\n",
              "\n",
              "        async function convertToInteractive(key) {\n",
              "          const element = document.querySelector('#df-9b73af1d-58f6-4fe7-9b8f-52cea296de37');\n",
              "          const dataTable =\n",
              "            await google.colab.kernel.invokeFunction('convertToInteractive',\n",
              "                                                     [key], {});\n",
              "          if (!dataTable) return;\n",
              "\n",
              "          const docLinkHtml = 'Like what you see? Visit the ' +\n",
              "            '<a target=\"_blank\" href=https://colab.research.google.com/notebooks/data_table.ipynb>data table notebook</a>'\n",
              "            + ' to learn more about interactive tables.';\n",
              "          element.innerHTML = '';\n",
              "          dataTable['output_type'] = 'display_data';\n",
              "          await google.colab.output.renderOutput(dataTable, element);\n",
              "          const docLink = document.createElement('div');\n",
              "          docLink.innerHTML = docLinkHtml;\n",
              "          element.appendChild(docLink);\n",
              "        }\n",
              "      </script>\n",
              "    </div>\n",
              "  </div>\n",
              "  "
            ]
          },
          "metadata": {},
          "execution_count": 45
        }
      ]
    },
    {
      "cell_type": "code",
      "source": [
        "# conversion platformtype to numerical\n",
        "indexer = StringIndexer(inputCol='sessionType', outputCol='sessionType_num').fit(df)\n",
        "df1 = indexer.transform(df)"
      ],
      "metadata": {
        "id": "q_d4mDh0JgjG"
      },
      "execution_count": null,
      "outputs": []
    },
    {
      "cell_type": "code",
      "source": [
        "df1.show()"
      ],
      "metadata": {
        "colab": {
          "base_uri": "https://localhost:8080/"
        },
        "id": "Y2LgobLvI3ua",
        "outputId": "1aeeca8a-91e4-4418-c7ad-978ce919d6d4"
      },
      "execution_count": null,
      "outputs": [
        {
          "output_type": "stream",
          "name": "stdout",
          "text": [
            "+-------------------+-------------+------+------+------------+-----------+---------+------------+---------------+\n",
            "|          timestamp|userSessionId|userId|teamId|assignmentId|sessionType|teamLevel|platformType|sessionType_num|\n",
            "+-------------------+-------------+------+------+------------+-----------+---------+------------+---------------+\n",
            "|2016-05-26 14:47:30|         5675|   170|    90|        5423|      start|        1|      iphone|            1.0|\n",
            "|2016-05-27 00:06:54|         5675|   170|    90|        5423|        end|        1|      iphone|            0.0|\n",
            "|2016-05-26 14:43:09|         5795|   835|    39|        5300|      start|        1|     android|            1.0|\n",
            "|2016-05-27 08:06:54|         5795|   835|    39|        5300|        end|        1|     android|            0.0|\n",
            "|2016-05-26 14:47:20|         5833|   624|     2|        5529|      start|        1|      iphone|            1.0|\n",
            "|2016-05-27 23:06:54|         5833|   624|     2|        5529|        end|        1|      iphone|            0.0|\n",
            "|2016-05-26 14:37:33|         5877|   514|     2|        5528|      start|        1|     windows|            1.0|\n",
            "|2016-05-27 23:06:54|         5877|   514|     2|        5528|        end|        1|     windows|            0.0|\n",
            "|2016-05-26 14:36:55|         5902|  2103|     2|        5527|      start|        1|      iphone|            1.0|\n",
            "|2016-05-27 23:06:54|         5902|  2103|     2|        5527|        end|        1|      iphone|            0.0|\n",
            "|2016-05-26 14:50:24|         5921|   518|     2|        5520|      start|        1|       linux|            1.0|\n",
            "|2016-05-27 23:06:54|         5921|   518|     2|        5520|        end|        1|       linux|            0.0|\n",
            "|2016-05-26 14:44:55|         5924|   569|     2|        5524|      start|        1|      iphone|            1.0|\n",
            "|2016-05-27 23:06:54|         5924|   569|     2|        5524|        end|        1|      iphone|            0.0|\n",
            "|2016-05-27 17:06:54|         7270|  2353|     2|        7264|      start|        1|      iphone|            1.0|\n",
            "|2016-05-27 23:06:54|         7270|  2353|     2|        7264|        end|        1|      iphone|            0.0|\n",
            "|2016-05-26 14:38:34|         5700|  1353|     8|        5562|      start|        1|     android|            1.0|\n",
            "|2016-05-27 23:06:54|         5700|  1353|     8|        5562|        end|        1|     android|            0.0|\n",
            "|2016-05-26 15:05:00|         5708|  1175|     8|        5553|      start|        1|      iphone|            1.0|\n",
            "|2016-05-27 23:06:54|         5708|  1175|     8|        5553|        end|        1|      iphone|            0.0|\n",
            "+-------------------+-------------+------+------+------------+-----------+---------+------------+---------------+\n",
            "only showing top 20 rows\n",
            "\n"
          ]
        }
      ]
    },
    {
      "cell_type": "code",
      "source": [
        "df3=df1.drop(\"sessionType\")"
      ],
      "metadata": {
        "id": "gfeSOIq2JSbo"
      },
      "execution_count": null,
      "outputs": []
    },
    {
      "cell_type": "code",
      "source": [
        "display(df1.groupBy(\"sessionType\").count())"
      ],
      "metadata": {
        "colab": {
          "base_uri": "https://localhost:8080/",
          "height": 34
        },
        "id": "ukSVawq_J7uO",
        "outputId": "7c0093e7-f3c2-40e8-ee69-5c42e61b2bc9"
      },
      "execution_count": null,
      "outputs": [
        {
          "output_type": "display_data",
          "data": {
            "text/plain": [
              "DataFrame[sessionType: string, count: bigint]"
            ]
          },
          "metadata": {}
        }
      ]
    },
    {
      "cell_type": "code",
      "source": [
        "display(df3.groupBy(\"platformType\",\"sessionType_num\").count())"
      ],
      "metadata": {
        "colab": {
          "base_uri": "https://localhost:8080/",
          "height": 34
        },
        "id": "bKnUgVi2KBr2",
        "outputId": "ffda854f-8291-4eca-ffd5-3db051e0f5b0"
      },
      "execution_count": null,
      "outputs": [
        {
          "output_type": "display_data",
          "data": {
            "text/plain": [
              "DataFrame[platformType: string, sessionType_num: double, count: bigint]"
            ]
          },
          "metadata": {}
        }
      ]
    },
    {
      "cell_type": "code",
      "source": [
        "df1_pd = df.toPandas()"
      ],
      "metadata": {
        "id": "NsifS019LPHM"
      },
      "execution_count": null,
      "outputs": []
    },
    {
      "cell_type": "code",
      "source": [
        "plt.rcParams[\"axes.labelsize\"] = 15\n",
        "plt.tick_params(labelsize=12.5)\n",
        "ax = sns.histplot(data=df1_pd, x=\"platformType\", hue=\"sessionType\",  multiple=\"dodge\", bins=8)\n",
        "ax.set(xlabel=' Platforms',\n",
        "       ylabel='Number  of  Sessions')"
      ],
      "metadata": {
        "colab": {
          "base_uri": "https://localhost:8080/",
          "height": 491
        },
        "id": "S7wcDCogLcSj",
        "outputId": "83d9f440-7b62-4791-da46-341ad14fa01b"
      },
      "execution_count": null,
      "outputs": [
        {
          "output_type": "execute_result",
          "data": {
            "text/plain": [
              "[Text(0.5, 0, ' Platforms'), Text(0, 0.5, 'Number  of  Sessions')]"
            ]
          },
          "metadata": {},
          "execution_count": 52
        },
        {
          "output_type": "display_data",
          "data": {
            "text/plain": [
              "<Figure size 1300x600 with 1 Axes>"
            ],
            "image/png": "[encoded data removed]"
          },
          "metadata": {}
        }
      ]
    },
    {
      "cell_type": "code",
      "source": [
        "df1.show()\n"
      ],
      "metadata": {
        "colab": {
          "base_uri": "https://localhost:8080/"
        },
        "id": "iNei5Q4ZJM4n",
        "outputId": "97c1d662-b991-4bc6-af62-10b5a0efe728"
      },
      "execution_count": null,
      "outputs": [
        {
          "output_type": "stream",
          "name": "stdout",
          "text": [
            "+-------------------+-------------+------+------+------------+-----------+---------+------------+---------------+\n",
            "|          timestamp|userSessionId|userId|teamId|assignmentId|sessionType|teamLevel|platformType|sessionType_num|\n",
            "+-------------------+-------------+------+------+------------+-----------+---------+------------+---------------+\n",
            "|2016-05-26 14:47:30|         5675|   170|    90|        5423|      start|        1|      iphone|            1.0|\n",
            "|2016-05-27 00:06:54|         5675|   170|    90|        5423|        end|        1|      iphone|            0.0|\n",
            "|2016-05-26 14:43:09|         5795|   835|    39|        5300|      start|        1|     android|            1.0|\n",
            "|2016-05-27 08:06:54|         5795|   835|    39|        5300|        end|        1|     android|            0.0|\n",
            "|2016-05-26 14:47:20|         5833|   624|     2|        5529|      start|        1|      iphone|            1.0|\n",
            "|2016-05-27 23:06:54|         5833|   624|     2|        5529|        end|        1|      iphone|            0.0|\n",
            "|2016-05-26 14:37:33|         5877|   514|     2|        5528|      start|        1|     windows|            1.0|\n",
            "|2016-05-27 23:06:54|         5877|   514|     2|        5528|        end|        1|     windows|            0.0|\n",
            "|2016-05-26 14:36:55|         5902|  2103|     2|        5527|      start|        1|      iphone|            1.0|\n",
            "|2016-05-27 23:06:54|         5902|  2103|     2|        5527|        end|        1|      iphone|            0.0|\n",
            "|2016-05-26 14:50:24|         5921|   518|     2|        5520|      start|        1|       linux|            1.0|\n",
            "|2016-05-27 23:06:54|         5921|   518|     2|        5520|        end|        1|       linux|            0.0|\n",
            "|2016-05-26 14:44:55|         5924|   569|     2|        5524|      start|        1|      iphone|            1.0|\n",
            "|2016-05-27 23:06:54|         5924|   569|     2|        5524|        end|        1|      iphone|            0.0|\n",
            "|2016-05-27 17:06:54|         7270|  2353|     2|        7264|      start|        1|      iphone|            1.0|\n",
            "|2016-05-27 23:06:54|         7270|  2353|     2|        7264|        end|        1|      iphone|            0.0|\n",
            "|2016-05-26 14:38:34|         5700|  1353|     8|        5562|      start|        1|     android|            1.0|\n",
            "|2016-05-27 23:06:54|         5700|  1353|     8|        5562|        end|        1|     android|            0.0|\n",
            "|2016-05-26 15:05:00|         5708|  1175|     8|        5553|      start|        1|      iphone|            1.0|\n",
            "|2016-05-27 23:06:54|         5708|  1175|     8|        5553|        end|        1|      iphone|            0.0|\n",
            "+-------------------+-------------+------+------+------------+-----------+---------+------------+---------------+\n",
            "only showing top 20 rows\n",
            "\n"
          ]
        }
      ]
    },
    {
      "cell_type": "code",
      "source": [
        "df1.show()"
      ],
      "metadata": {
        "colab": {
          "base_uri": "https://localhost:8080/"
        },
        "id": "M3ZUSBDtPh7q",
        "outputId": "ba0cf920-6d61-49de-8e3b-aea5e04fc458"
      },
      "execution_count": null,
      "outputs": [
        {
          "output_type": "stream",
          "name": "stdout",
          "text": [
            "+-------------------+-------------+------+------+------------+-----------+---------+------------+---------------+\n",
            "|          timestamp|userSessionId|userId|teamId|assignmentId|sessionType|teamLevel|platformType|sessionType_num|\n",
            "+-------------------+-------------+------+------+------------+-----------+---------+------------+---------------+\n",
            "|2016-05-26 14:47:30|         5675|   170|    90|        5423|      start|        1|      iphone|            1.0|\n",
            "|2016-05-27 00:06:54|         5675|   170|    90|        5423|        end|        1|      iphone|            0.0|\n",
            "|2016-05-26 14:43:09|         5795|   835|    39|        5300|      start|        1|     android|            1.0|\n",
            "|2016-05-27 08:06:54|         5795|   835|    39|        5300|        end|        1|     android|            0.0|\n",
            "|2016-05-26 14:47:20|         5833|   624|     2|        5529|      start|        1|      iphone|            1.0|\n",
            "|2016-05-27 23:06:54|         5833|   624|     2|        5529|        end|        1|      iphone|            0.0|\n",
            "|2016-05-26 14:37:33|         5877|   514|     2|        5528|      start|        1|     windows|            1.0|\n",
            "|2016-05-27 23:06:54|         5877|   514|     2|        5528|        end|        1|     windows|            0.0|\n",
            "|2016-05-26 14:36:55|         5902|  2103|     2|        5527|      start|        1|      iphone|            1.0|\n",
            "|2016-05-27 23:06:54|         5902|  2103|     2|        5527|        end|        1|      iphone|            0.0|\n",
            "|2016-05-26 14:50:24|         5921|   518|     2|        5520|      start|        1|       linux|            1.0|\n",
            "|2016-05-27 23:06:54|         5921|   518|     2|        5520|        end|        1|       linux|            0.0|\n",
            "|2016-05-26 14:44:55|         5924|   569|     2|        5524|      start|        1|      iphone|            1.0|\n",
            "|2016-05-27 23:06:54|         5924|   569|     2|        5524|        end|        1|      iphone|            0.0|\n",
            "|2016-05-27 17:06:54|         7270|  2353|     2|        7264|      start|        1|      iphone|            1.0|\n",
            "|2016-05-27 23:06:54|         7270|  2353|     2|        7264|        end|        1|      iphone|            0.0|\n",
            "|2016-05-26 14:38:34|         5700|  1353|     8|        5562|      start|        1|     android|            1.0|\n",
            "|2016-05-27 23:06:54|         5700|  1353|     8|        5562|        end|        1|     android|            0.0|\n",
            "|2016-05-26 15:05:00|         5708|  1175|     8|        5553|      start|        1|      iphone|            1.0|\n",
            "|2016-05-27 23:06:54|         5708|  1175|     8|        5553|        end|        1|      iphone|            0.0|\n",
            "+-------------------+-------------+------+------+------------+-----------+---------+------------+---------------+\n",
            "only showing top 20 rows\n",
            "\n"
          ]
        }
      ]
    },
    {
      "cell_type": "code",
      "source": [
        "df1.show(5)"
      ],
      "metadata": {
        "colab": {
          "base_uri": "https://localhost:8080/"
        },
        "id": "Q-dwWaIxI7aF",
        "outputId": "7867aa5b-aa18-48a7-d48f-362cd1d67417"
      },
      "execution_count": null,
      "outputs": [
        {
          "output_type": "stream",
          "name": "stdout",
          "text": [
            "+-------------------+-------------+------+------+------------+-----------+---------+------------+---------------+\n",
            "|          timestamp|userSessionId|userId|teamId|assignmentId|sessionType|teamLevel|platformType|sessionType_num|\n",
            "+-------------------+-------------+------+------+------------+-----------+---------+------------+---------------+\n",
            "|2016-05-26 14:47:30|         5675|   170|    90|        5423|      start|        1|      iphone|            1.0|\n",
            "|2016-05-27 00:06:54|         5675|   170|    90|        5423|        end|        1|      iphone|            0.0|\n",
            "|2016-05-26 14:43:09|         5795|   835|    39|        5300|      start|        1|     android|            1.0|\n",
            "|2016-05-27 08:06:54|         5795|   835|    39|        5300|        end|        1|     android|            0.0|\n",
            "|2016-05-26 14:47:20|         5833|   624|     2|        5529|      start|        1|      iphone|            1.0|\n",
            "+-------------------+-------------+------+------+------------+-----------+---------+------------+---------------+\n",
            "only showing top 5 rows\n",
            "\n"
          ]
        }
      ]
    },
    {
      "cell_type": "code",
      "source": [
        "df1_pd['teamId'] = pd.cut(df1_pd['userId'], bins=[0,7.91,14.45,31,512.33], labels=['Low','Mid_Low-Mid','Mid-Mid_High','High'])\n"
      ],
      "metadata": {
        "id": "69jHUrujLlC2"
      },
      "execution_count": null,
      "outputs": []
    },
    {
      "cell_type": "code",
      "source": [
        "plt.rcParams[\"figure.figsize\"] = (14,8)\n",
        "plt.rcParams[\"axes.labelsize\"] = 15\n",
        "plt.tick_params(labelsize=12.5)\n",
        "ax_2 = sns.countplot(x = \"teamId\", hue = \"sessionType\", data = df1_pd, palette=[\"C3\", \"C0\"]).legend(labels = [\"Start\", \"End\"])\n",
        "ax_2.set_title(\"Survival based on Fare Class\")"
      ],
      "metadata": {
        "colab": {
          "base_uri": "https://localhost:8080/",
          "height": 571
        },
        "id": "ixzCxmMi6XT5",
        "outputId": "d89c5b5f-33a9-4e55-f79a-0489538ccbc8"
      },
      "execution_count": null,
      "outputs": [
        {
          "output_type": "display_data",
          "data": {
            "text/plain": [
              "<Figure size 1400x800 with 1 Axes>"
            ],
            "image/png": "[encoded data removed]"
          },
          "metadata": {}
        }
      ]
    },
    {
      "cell_type": "code",
      "source": [
        "\n",
        "!jupyter nbconvert --to html /content/Overview_PreProcessing_Visualization_Eda_.ipynb"
      ],
      "metadata": {
        "colab": {
          "base_uri": "https://localhost:8080/"
        },
        "id": "NDN7plaD_Zhp",
        "outputId": "afb40e0f-bc08-4818-bc42-aba9f5e1aaa6"
      },
      "execution_count": null,
      "outputs": [
        {
          "output_type": "stream",
          "name": "stdout",
          "text": [
            "[NbConvertApp] Converting notebook /content/Overview_PreProcessing_Visualization_Eda_.ipynb to html\n",
            "[NbConvertApp] Writing 842836 bytes to /content/Overview_PreProcessing_Visualization_Eda_.html\n"
          ]
        }
      ]
    },
    {
      "cell_type": "code",
      "source": [],
      "metadata": {
        "id": "Vy_If0jTImUC"
      },
      "execution_count": null,
      "outputs": []
    }
  ]
}